{
 "cells": [
  {
   "cell_type": "code",
   "execution_count": null,
   "id": "4e262991",
   "metadata": {},
   "outputs": [],
   "source": [
    "# Google Colab mangling\n",
    "!rm -r hilbert_maps_rss2015\n",
    "!git clone https://github.com/LionelOtt/hilbert_maps_rss2015.git -b ts2\n",
    "%cd /content/hilbert_maps_rss2015/\n",
    "\n",
    "# Import numerics and plotting libraries\n",
    "import matplotlib\n",
    "import matplotlib.pyplot as plt\n",
    "import numpy as np\n",
    "\n",
    "# Import underlying code base\n",
    "import example\n",
    "import hilbert_map\n",
    "import util\n",
    "import occupancy_gridmap\n",
    "\n",
    "# Make plots bigger\n",
    "%matplotlib inline\n",
    "matplotlib.rcParams[\"figure.figsize\"] = [20, 11.25]\n",
    "\n",
    "# Configure global variables\n",
    "g_logpath = \"datasets/intel.gfs.log\"\n",
    "g_noise_variances = None\n",
    "# g_noise_variances = [0.1, 0.1, 0.02]\n",
    "# g_noise_variances = [0.2, 0.2, 0.1]"
   ]
  },
  {
   "cell_type": "markdown",
   "id": "ef9e58e6",
   "metadata": {},
   "source": [
    "# Data loading\n",
    "\n",
    "Loads the logfile and then visualizes the laser scans in a global coordinate frame."
   ]
  },
  {
   "cell_type": "code",
   "execution_count": null,
   "id": "ec7b6c8b",
   "metadata": {},
   "outputs": [],
   "source": [
    "poses, scans = util.parse_carmen_log(g_logpath)\n",
    "if g_noise_variances is not None:\n",
    "    poses = util.perturb_data(poses, g_noise_variances)\n",
    "dataset = {\"poses\": poses, \"scans\": scans}\n",
    "\n",
    "plt.figure(\"raw data\")\n",
    "plt.axis(\"equal\")\n",
    "plt.title(f\"Laser Returns - {g_logpath}\")\n",
    "plt.xlabel(\"$X$\")\n",
    "plt.ylabel(\"$Y$\")\n",
    "for points, labels in util.data_generator(poses, scans):\n",
    "    plt.plot(points[labels == 1][:, 0], points[labels == 1][:, 1], \"k,\")\n",
    "plt.show()"
   ]
  },
  {
   "cell_type": "markdown",
   "id": "a6d3401f",
   "metadata": {},
   "source": [
    "# Occupancy Grid Mapping\n",
    "\n",
    "Using the occupancy grid mapping method using a simple counting sensor model build a map."
   ]
  },
  {
   "cell_type": "code",
   "execution_count": null,
   "id": "b368363b",
   "metadata": {},
   "outputs": [],
   "source": [
    "ogm = occupancy_gridmap.create_occupancy_grid_map(dataset, 0.2)\n",
    "plt.figure(\"ogm\")\n",
    "plt.axis(\"equal\")\n",
    "ogm.visualize_map()\n",
    "plt.show()"
   ]
  },
  {
   "cell_type": "markdown",
   "id": "3b27bd1c",
   "metadata": {},
   "source": [
    "# Hilbert Map\n",
    "\n",
    "Treating the problem as a classification one a Hilbert Map is learned from the scans."
   ]
  },
  {
   "cell_type": "code",
   "execution_count": null,
   "id": "db646fab",
   "metadata": {},
   "outputs": [],
   "source": [
    "hm = example.train_sparse_hm(dataset, 1500, 1.0, 0.001)\n",
    "xlim, ylim = util.bounding_box(dataset[\"poses\"], 5.0)\n",
    "plt.figure(\"hm\")\n",
    "plt.axis(\"equal\")\n",
    "example.generate_map(hm, 0.1, [xlim[0], xlim[1], ylim[0], ylim[1]])\n",
    "plt.show()"
   ]
  },
  {
   "cell_type": "markdown",
   "id": "bcac290d",
   "metadata": {},
   "source": [
    "# Reproducing Kernel Hilbert Space Hilbert Map\n",
    "\n",
    "Exploiting the RKHS properties a map which assumes the observations to be noisy is built."
   ]
  },
  {
   "cell_type": "code",
   "execution_count": null,
   "id": "8ca68b6c",
   "metadata": {},
   "outputs": [],
   "source": [
    "hm = example.train_sparse_hm(dataset, 1500, 1.0, 0.001, True)\n",
    "xlim, ylim = util.bounding_box(dataset[\"poses\"], 5.0)\n",
    "plt.figure(\"rkhs hm\")\n",
    "plt.axis(\"equal\")\n",
    "example.generate_map(hm, 0.1, [xlim[0], xlim[1], ylim[0], ylim[1]])\n",
    "plt.show()"
   ]
  }
 ],
 "metadata": {
  "kernelspec": {
   "display_name": "Python 3 (ipykernel)",
   "language": "python",
   "name": "python3"
  },
  "language_info": {
   "codemirror_mode": {
    "name": "ipython",
    "version": 3
   },
   "file_extension": ".py",
   "mimetype": "text/x-python",
   "name": "python",
   "nbconvert_exporter": "python",
   "pygments_lexer": "ipython3",
   "version": "3.10.5"
  }
 },
 "nbformat": 4,
 "nbformat_minor": 5
}
